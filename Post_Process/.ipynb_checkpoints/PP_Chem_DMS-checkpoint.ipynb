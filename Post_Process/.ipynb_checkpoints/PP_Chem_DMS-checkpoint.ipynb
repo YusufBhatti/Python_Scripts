{
 "cells": [
  {
   "cell_type": "code",
   "execution_count": 21,
   "metadata": {},
   "outputs": [
    {
     "name": "stderr",
     "output_type": "stream",
     "text": [
      "<ipython-input-21-665ba28164fb>:32: VisibleDeprecationWarning: Creating an ndarray from ragged nested sequences (which is a list-or-tuple of lists-or-tuples-or ndarrays with different lengths or shapes) is deprecated. If you meant to do this, you must specify 'dtype=object' when creating the ndarray\n",
      "  Ditems=np.array(Ditem)\n",
      "<ipython-input-21-665ba28164fb>:37: VisibleDeprecationWarning: Creating an ndarray from ragged nested sequences (which is a list-or-tuple of lists-or-tuples-or ndarrays with different lengths or shapes) is deprecated. If you meant to do this, you must specify 'dtype=object' when creating the ndarray\n",
      "  Mitems=np.array(Mitem)\n"
     ]
    }
   ],
   "source": [
    "#!/usr/bin/env python3\n",
    "# -*- coding: utf-8 -*-\n",
    "\"\"\"\n",
    "Created on Wed Oct  7 17:27:10 2020\n",
    "\n",
    "@author: ybh10\n",
    "\"\"\"\n",
    "from six.moves import cPickle as pickle\n",
    "import iris\n",
    "import numpy as np\n",
    "import os\n",
    "os.chdir(\"/home/ybh10/Scripts\")\n",
    "from my_functions import *\n",
    "\n",
    "suite='cb134'\n",
    "os.chdir(\"/nesi/nobackup/niwa02757/ybh10/cylc-run/u-\"+suite+\"/share/data/History_Data/\")\n",
    "Daily_save_file='~ybh10/DMS_Emissions/Chemistry_Scheme/Daily'\n",
    "Monthly_save_file='~ybh10/DMS_Emissions/Chemistry_Scheme/Monthly'\n",
    "days=np.arange(1,31,1)\n",
    "month=np.arange(1,13,1)\n",
    "months = ['jan','feb','mar','apr','may','jun','jul','aug','sep','oct','nov','dec']\n",
    "#months = 'sep'\n",
    "year='1988'\n",
    "#year=np.arange(2003)\n",
    "\n",
    "        \n",
    "section = (0,1,2,3,34,38,50)\n",
    "Ditem = ['132'],['208','209','241','298','299'],['205','206','284','285','300','301','302','303'],\\\n",
    "['209','210','236'],['071','072','073','074','075','102','104','108','114'], \\\n",
    "['201','202','203','439','485','486','487','488'],\\\n",
    "['214','216','217','219']\n",
    "Ditems=np.array(Ditem)\n",
    "Mitem = ['096','132'],['208','209','241','298','299'],['205','206','284','300','301','302','303'],\\\n",
    "['209','210','236'],['072','073','074','075','102','104','108','114','967','968'], \\\n",
    "['201','202','203','294','295','296','297','298','299','300','439','485','486','487','488'],\\\n",
    "['214','215','216','217','219']\n",
    "Mitems=np.array(Mitem)\n",
    "x=-1\n",
    "M_msi=[]\n",
    "for i,s in zip(Mitems,section):\n",
    "    x=x+1\n",
    "    for it in (i):\n",
    "        a=('m01s{:02d}i{}').format(section[x],it)\n",
    "        M_msi.append(a)\n",
    "D_msi=[]\n",
    "x=-1\n",
    "for i,s in zip(Ditems,section):\n",
    "    x=x+1\n",
    "    for it in (i):\n",
    "        a=('m01s{:02d}i{}').format(section[x],it)\n",
    "        D_msi.append(a)\n",
    "Daily_Variables = ['DMS_CONCENTRATION_IN_SEAWATER',\n",
    "             'ALL_SKY_OUTGOING_SW_FLUX_TOA','CLEAR_SKY_UPWARD_SW_FLUX_TOA ',\n",
    "'DROPLET_NUMBER_CONCENTRATION','CDNC_Cloud_Top','WEIGHT_FOR_CDNC',\n",
    "             'ALL_SKY_OUTGOING_LW_FLUX_TOA','CLEAR_SKY_OUTGOING_LW_FLUX_TOA','SULPHATE_OPTICAL_DEPTH','Mineral_Dust_Optical_Depth_in_Radn', \n",
    "'AITKEN_MODE_SOL_OPTICAL_DEPTH','ACCUM_MODE_SOL_OPTICAL_DEPTH','COARSE_MODE_SOL_OPTICAL_DEPTH', 'AITKEN_MODE_INSOL_OPTICAL_DEPTH',\n",
    "             '10M_WIND_U-COMP','10M_WIND_V-COMP','TEMPERATURE_AT_1.5M',\n",
    "             'DMS_MASS_MIXING_RATIO','SO2_MASS_MIXING_RATIO','H2SO4_MMR','MSA_MASS_MIXING_RATIO','DMSO_MMR','NUCLEATION_MODE_SOL_H2SO4_MMR','AITKEN_MODE_SOL_H2SO4_MMR',\n",
    "'ACCUMULATION_MODE_SOL_H2SO4_MMR','COARSE_MODE_SOL_H2SO4_MMR',\n",
    "             'PRIMARY_H2SO4_FLUX_TO_AITKEN', 'PRIMARY_H2SO4_FLUX_TO_ACCUM','PRIMARY_H2SO4_FLUX_TO_COARSE','CCN_NO.CONCENTRATION_25r', \n",
    "'NUCLEATION_MODE_SOL_H2SO4', 'AITKEN_MODE_SOL_H2SO4','ACCUMULATION_MODE_SOL_H2SO4','COARSE_MODE_SOL_H2SO4',\n",
    "             'DMS_SURF_EMISSIONS','SO2_HIGH_LEV_EMISSIONS','SO2_NATURAL_EMISSIONS','OZONE_COLUMN_IN_DOBSON_UNITS']\n",
    "\n",
    "Monthly_Variables = ['OCEAN_SURFACE_CHLOR','DMS_CONCENTRATION_IN_SEAWATER',\n",
    "             'ALL_SKY_OUTGOING_SW_FLUX_TOA','CLEAR_SKY_UPWARD_SW_FLUX_TOA ',\n",
    "'DROPLET_NUMBER_CONCENTRATION','CDNC_Cloud_Top','WEIGHT_FOR_CDNC','ALL_SKY_OUTGOING_LW_FLUX_TOA','CLEAR_SKY_OUTGOING_LW_FLUX_TOA','SULPHATE_OPTICAL_DEPTH',\n",
    "'AITKEN_MODE_SOL_OPTICAL_DEPTH','ACCUM_MODE_SOL_OPTICAL_DEPTH','COARSE_MODE_SOL_OPTICAL_DEPTH', 'AITKEN_MODE_INSOL_OPTICAL_DEPTH',\n",
    "             '10M_WIND_U-COMP','10M_WIND_V-COMP','TEMPERATURE_AT_1.5M',\n",
    "             'SO2_MASS_MIXING_RATIO','H2SO4_MMR','MSA_MASS_MIXING_RATIO','DMSO_MMR','NUCLEATION_MODE_SOL_H2SO4_MMR','AITKEN_MODE_SOL_H2SO4_MMR',\n",
    "'ACCUMULATION_MODE_SOL_H2SO4_MMR','COARSE_MODE_SOL_H2SO4_MMR','CDNC_-1/3','CDNC '\n",
    "             'PRIMARY_H2SO4_FLUX_TO_AITKEN', 'PRIMARY_H2SO4_FLUX_TO_ACCUM','PRIMARY_H2SO4_FLUX_TO_COARSE',\n",
    "'COND_H2SO4_TO_NUC_SOL','COND_H2SO4_TO_AITKEN_SOL','COND_H2SO4_TO_ACCUM_SOL','COND_H2SO4_TO_COARSE_SOL',\n",
    "'COND_H2SO4_TO_AITKEN_INSOL','COND_H2SO4_TO_ACCUM_INSOL','COND_H2SO4_TO_COARSE_INSOL','CCN_NO.CONCENTRATION_25r', \n",
    "'NUCLEATION_MODE_SOL_H2SO4','AITKEN_MODE_SOL_H2SO4','ACCUMULATION_MODE_SOL_H2SO4', 'COARSE_MODE_SOL_H2SO4',\n",
    "             'DMS_SURF_EMISSIONS','SO2_SURF_EMISSIONS','SO2_HIGH_LEV_EMISSIONS','SO2_NATURAL_EMISSIONS',\n",
    "'OZONE_COLUMN_IN_DOBSON_UNITS']\n",
    "\n",
    "Monthly = {}\n",
    "for v,m in zip(Monthly_Variables,M_msi):\n",
    "    Monthly[v]=m\n",
    "Daily = {}\n",
    "for v,m in zip(Daily_Variables,D_msi):\n",
    "    Daily[v]=m\n",
    "    #constraint=iris.AttributeConstraint(STASH='m01s00i059')\n",
    "#cube = iris.load('bx043a.p'+x+'2003'+months[i]+'.pp',constraint) \n",
    "\n",
    "\n",
    "Usage_Profile = ['m','d']\n",
    "\n",
    "def monthly_iris(x): # Creates NC files from iris. #IN PROGRESS TO CHANGE!!\n",
    "    constraint=iris.AttributeConstraint(STASH=Monthly[x])\n",
    "    cube = iris.load(filename,constraint)\n",
    "    iris.save(cube, '/home/ybh10/DMS_Emissions/Chemistry_Scheme/Monthly/apm_{}_{}_{}.nc'.format(x,months[i],year))\n",
    "    print(('{}a.p{}{}{} & {}').format(suite,use,year,months[i],Monthly[x]))    \n",
    "    print(cube)\n",
    "    print('/home/ybh10/DMS_Emissions/{}_{}_{}}.nc'.format(Monthly_save_file,x,months[i],year))\n",
    "    return monthly_iris     \n",
    "\n",
    "def daily_iris(x): # Creates NC files from iris. #IN PROGRESS TO CHANGE!!\n",
    "    constraint=iris.AttributeConstraint(STASH=Daily[x])\n",
    "    cube = iris.load(filename,constraint)\n",
    "    iris.save(cube,'{}/apd_{}_{}_{}.nc'.format(Daily_save_file,x,months[i],year))\n",
    "    print(('{}a.p{}{}{} & {}').format(suite,use,year,months[i],Daily[x]))    \n",
    "    print(cube)\n",
    "    print('/home/ybh10/DMS_Emissions/{}_{}_{}.nc'.format(x,months[i],year))\n",
    "\n",
    "    return daily_iris    \n",
    "\n",
    "\n",
    "#os.chdir(\"/home/ybh10/Numpy_Array/\")\n",
    "#save_dict(Daily,'Daily_Stash_Output.npy')\n",
    "#save_dict(Monthly,'Monthly_Stash_Output.npy')\n",
    "\n",
    "os.chdir(\"/nesi/nobackup/niwa02757/ybh10/cylc-run/u-\"+suite+\"/share/data/History_Data/\")"
   ]
  },
  {
   "cell_type": "code",
   "execution_count": 22,
   "metadata": {},
   "outputs": [
    {
     "name": "stdout",
     "output_type": "stream",
     "text": [
      "cb134a.pm1988jan\n"
     ]
    },
    {
     "ename": "OSError",
     "evalue": "One or more of the files specified did not exist:\n    * \"/scale_wlg_nobackup/filesets/nobackup/niwa02757/ybh10/cylc-run/u-cb134/share/data/History_Data/cb134a.pm1988jan\" didn't match any files",
     "output_type": "error",
     "traceback": [
      "\u001b[0;31m---------------------------------------------------------------------------\u001b[0m",
      "\u001b[0;31mOSError\u001b[0m                                   Traceback (most recent call last)",
      "\u001b[0;32m<ipython-input-22-be2587489b0a>\u001b[0m in \u001b[0;36m<module>\u001b[0;34m\u001b[0m\n\u001b[1;32m     10\u001b[0m         \u001b[0;32mif\u001b[0m \u001b[0muse\u001b[0m \u001b[0;34m==\u001b[0m \u001b[0;34m'm'\u001b[0m\u001b[0;34m:\u001b[0m\u001b[0;34m\u001b[0m\u001b[0;34m\u001b[0m\u001b[0m\n\u001b[1;32m     11\u001b[0m             \u001b[0;32mfor\u001b[0m \u001b[0mx\u001b[0m \u001b[0;32min\u001b[0m \u001b[0;34m(\u001b[0m\u001b[0mDaily_Variables\u001b[0m\u001b[0;34m)\u001b[0m\u001b[0;34m:\u001b[0m\u001b[0;34m\u001b[0m\u001b[0;34m\u001b[0m\u001b[0m\n\u001b[0;32m---> 12\u001b[0;31m                 \u001b[0mdaily_iris\u001b[0m\u001b[0;34m(\u001b[0m\u001b[0mx\u001b[0m\u001b[0;34m)\u001b[0m\u001b[0;34m\u001b[0m\u001b[0;34m\u001b[0m\u001b[0m\n\u001b[0m\u001b[1;32m     13\u001b[0m             \u001b[0;31m# function for daily.\u001b[0m\u001b[0;34m\u001b[0m\u001b[0;34m\u001b[0m\u001b[0;34m\u001b[0m\u001b[0m\n\u001b[1;32m     14\u001b[0m \u001b[0;34m\u001b[0m\u001b[0m\n",
      "\u001b[0;32m<ipython-input-21-665ba28164fb>\u001b[0m in \u001b[0;36mdaily_iris\u001b[0;34m(x)\u001b[0m\n\u001b[1;32m     99\u001b[0m \u001b[0;32mdef\u001b[0m \u001b[0mdaily_iris\u001b[0m\u001b[0;34m(\u001b[0m\u001b[0mx\u001b[0m\u001b[0;34m)\u001b[0m\u001b[0;34m:\u001b[0m \u001b[0;31m# Creates NC files from iris. #IN PROGRESS TO CHANGE!!\u001b[0m\u001b[0;34m\u001b[0m\u001b[0;34m\u001b[0m\u001b[0m\n\u001b[1;32m    100\u001b[0m     \u001b[0mconstraint\u001b[0m\u001b[0;34m=\u001b[0m\u001b[0miris\u001b[0m\u001b[0;34m.\u001b[0m\u001b[0mAttributeConstraint\u001b[0m\u001b[0;34m(\u001b[0m\u001b[0mSTASH\u001b[0m\u001b[0;34m=\u001b[0m\u001b[0mDaily\u001b[0m\u001b[0;34m[\u001b[0m\u001b[0mx\u001b[0m\u001b[0;34m]\u001b[0m\u001b[0;34m)\u001b[0m\u001b[0;34m\u001b[0m\u001b[0;34m\u001b[0m\u001b[0m\n\u001b[0;32m--> 101\u001b[0;31m     \u001b[0mcube\u001b[0m \u001b[0;34m=\u001b[0m \u001b[0miris\u001b[0m\u001b[0;34m.\u001b[0m\u001b[0mload\u001b[0m\u001b[0;34m(\u001b[0m\u001b[0mfilename\u001b[0m\u001b[0;34m,\u001b[0m\u001b[0mconstraint\u001b[0m\u001b[0;34m)\u001b[0m\u001b[0;34m\u001b[0m\u001b[0;34m\u001b[0m\u001b[0m\n\u001b[0m\u001b[1;32m    102\u001b[0m     \u001b[0miris\u001b[0m\u001b[0;34m.\u001b[0m\u001b[0msave\u001b[0m\u001b[0;34m(\u001b[0m\u001b[0mcube\u001b[0m\u001b[0;34m,\u001b[0m\u001b[0;34m'{}/apd_{}_{}_{}.nc'\u001b[0m\u001b[0;34m.\u001b[0m\u001b[0mformat\u001b[0m\u001b[0;34m(\u001b[0m\u001b[0mDaily_save_file\u001b[0m\u001b[0;34m,\u001b[0m\u001b[0mx\u001b[0m\u001b[0;34m,\u001b[0m\u001b[0mmonths\u001b[0m\u001b[0;34m[\u001b[0m\u001b[0mi\u001b[0m\u001b[0;34m]\u001b[0m\u001b[0;34m,\u001b[0m\u001b[0myear\u001b[0m\u001b[0;34m)\u001b[0m\u001b[0;34m)\u001b[0m\u001b[0;34m\u001b[0m\u001b[0;34m\u001b[0m\u001b[0m\n\u001b[1;32m    103\u001b[0m     \u001b[0mprint\u001b[0m\u001b[0;34m(\u001b[0m\u001b[0;34m(\u001b[0m\u001b[0;34m'{}a.p{}{}{} & {}'\u001b[0m\u001b[0;34m)\u001b[0m\u001b[0;34m.\u001b[0m\u001b[0mformat\u001b[0m\u001b[0;34m(\u001b[0m\u001b[0msuite\u001b[0m\u001b[0;34m,\u001b[0m\u001b[0muse\u001b[0m\u001b[0;34m,\u001b[0m\u001b[0myear\u001b[0m\u001b[0;34m,\u001b[0m\u001b[0mmonths\u001b[0m\u001b[0;34m[\u001b[0m\u001b[0mi\u001b[0m\u001b[0;34m]\u001b[0m\u001b[0;34m,\u001b[0m\u001b[0mDaily\u001b[0m\u001b[0;34m[\u001b[0m\u001b[0mx\u001b[0m\u001b[0;34m]\u001b[0m\u001b[0;34m)\u001b[0m\u001b[0;34m)\u001b[0m\u001b[0;34m\u001b[0m\u001b[0;34m\u001b[0m\u001b[0m\n",
      "\u001b[0;32m/nesi/project/niwa02757/ybh10/miniconda3/envs/master/lib/python3.8/site-packages/iris/__init__.py\u001b[0m in \u001b[0;36mload\u001b[0;34m(uris, constraints, callback)\u001b[0m\n\u001b[1;32m    355\u001b[0m \u001b[0;34m\u001b[0m\u001b[0m\n\u001b[1;32m    356\u001b[0m     \"\"\"\n\u001b[0;32m--> 357\u001b[0;31m     \u001b[0;32mreturn\u001b[0m \u001b[0m_load_collection\u001b[0m\u001b[0;34m(\u001b[0m\u001b[0muris\u001b[0m\u001b[0;34m,\u001b[0m \u001b[0mconstraints\u001b[0m\u001b[0;34m,\u001b[0m \u001b[0mcallback\u001b[0m\u001b[0;34m)\u001b[0m\u001b[0;34m.\u001b[0m\u001b[0mmerged\u001b[0m\u001b[0;34m(\u001b[0m\u001b[0;34m)\u001b[0m\u001b[0;34m.\u001b[0m\u001b[0mcubes\u001b[0m\u001b[0;34m(\u001b[0m\u001b[0;34m)\u001b[0m\u001b[0;34m\u001b[0m\u001b[0;34m\u001b[0m\u001b[0m\n\u001b[0m\u001b[1;32m    358\u001b[0m \u001b[0;34m\u001b[0m\u001b[0m\n\u001b[1;32m    359\u001b[0m \u001b[0;34m\u001b[0m\u001b[0m\n",
      "\u001b[0;32m/nesi/project/niwa02757/ybh10/miniconda3/envs/master/lib/python3.8/site-packages/iris/__init__.py\u001b[0m in \u001b[0;36m_load_collection\u001b[0;34m(uris, constraints, callback)\u001b[0m\n\u001b[1;32m    323\u001b[0m     \u001b[0;32mtry\u001b[0m\u001b[0;34m:\u001b[0m\u001b[0;34m\u001b[0m\u001b[0;34m\u001b[0m\u001b[0m\n\u001b[1;32m    324\u001b[0m         \u001b[0mcubes\u001b[0m \u001b[0;34m=\u001b[0m \u001b[0m_generate_cubes\u001b[0m\u001b[0;34m(\u001b[0m\u001b[0muris\u001b[0m\u001b[0;34m,\u001b[0m \u001b[0mcallback\u001b[0m\u001b[0;34m,\u001b[0m \u001b[0mconstraints\u001b[0m\u001b[0;34m)\u001b[0m\u001b[0;34m\u001b[0m\u001b[0;34m\u001b[0m\u001b[0m\n\u001b[0;32m--> 325\u001b[0;31m         \u001b[0mresult\u001b[0m \u001b[0;34m=\u001b[0m \u001b[0miris\u001b[0m\u001b[0;34m.\u001b[0m\u001b[0mcube\u001b[0m\u001b[0;34m.\u001b[0m\u001b[0m_CubeFilterCollection\u001b[0m\u001b[0;34m.\u001b[0m\u001b[0mfrom_cubes\u001b[0m\u001b[0;34m(\u001b[0m\u001b[0mcubes\u001b[0m\u001b[0;34m,\u001b[0m \u001b[0mconstraints\u001b[0m\u001b[0;34m)\u001b[0m\u001b[0;34m\u001b[0m\u001b[0;34m\u001b[0m\u001b[0m\n\u001b[0m\u001b[1;32m    326\u001b[0m     \u001b[0;32mexcept\u001b[0m \u001b[0mEOFError\u001b[0m \u001b[0;32mas\u001b[0m \u001b[0me\u001b[0m\u001b[0;34m:\u001b[0m\u001b[0;34m\u001b[0m\u001b[0;34m\u001b[0m\u001b[0m\n\u001b[1;32m    327\u001b[0m         raise iris.exceptions.TranslationError(\n",
      "\u001b[0;32m/nesi/project/niwa02757/ybh10/miniconda3/envs/master/lib/python3.8/site-packages/iris/cube.py\u001b[0m in \u001b[0;36mfrom_cubes\u001b[0;34m(cubes, constraints)\u001b[0m\n\u001b[1;32m    155\u001b[0m         \u001b[0mpairs\u001b[0m \u001b[0;34m=\u001b[0m \u001b[0;34m[\u001b[0m\u001b[0m_CubeFilter\u001b[0m\u001b[0;34m(\u001b[0m\u001b[0mconstraint\u001b[0m\u001b[0;34m)\u001b[0m \u001b[0;32mfor\u001b[0m \u001b[0mconstraint\u001b[0m \u001b[0;32min\u001b[0m \u001b[0mconstraints\u001b[0m\u001b[0;34m]\u001b[0m\u001b[0;34m\u001b[0m\u001b[0;34m\u001b[0m\u001b[0m\n\u001b[1;32m    156\u001b[0m         \u001b[0mcollection\u001b[0m \u001b[0;34m=\u001b[0m \u001b[0m_CubeFilterCollection\u001b[0m\u001b[0;34m(\u001b[0m\u001b[0mpairs\u001b[0m\u001b[0;34m)\u001b[0m\u001b[0;34m\u001b[0m\u001b[0;34m\u001b[0m\u001b[0m\n\u001b[0;32m--> 157\u001b[0;31m         \u001b[0;32mfor\u001b[0m \u001b[0mcube\u001b[0m \u001b[0;32min\u001b[0m \u001b[0mcubes\u001b[0m\u001b[0;34m:\u001b[0m\u001b[0;34m\u001b[0m\u001b[0;34m\u001b[0m\u001b[0m\n\u001b[0m\u001b[1;32m    158\u001b[0m             \u001b[0mcollection\u001b[0m\u001b[0;34m.\u001b[0m\u001b[0madd_cube\u001b[0m\u001b[0;34m(\u001b[0m\u001b[0mcube\u001b[0m\u001b[0;34m)\u001b[0m\u001b[0;34m\u001b[0m\u001b[0;34m\u001b[0m\u001b[0m\n\u001b[1;32m    159\u001b[0m         \u001b[0;32mreturn\u001b[0m \u001b[0mcollection\u001b[0m\u001b[0;34m\u001b[0m\u001b[0;34m\u001b[0m\u001b[0m\n",
      "\u001b[0;32m/nesi/project/niwa02757/ybh10/miniconda3/envs/master/lib/python3.8/site-packages/iris/__init__.py\u001b[0m in \u001b[0;36m_generate_cubes\u001b[0;34m(uris, callback, constraints)\u001b[0m\n\u001b[1;32m    310\u001b[0m         \u001b[0;32mif\u001b[0m \u001b[0mscheme\u001b[0m \u001b[0;34m==\u001b[0m \u001b[0;34m'file'\u001b[0m\u001b[0;34m:\u001b[0m\u001b[0;34m\u001b[0m\u001b[0;34m\u001b[0m\u001b[0m\n\u001b[1;32m    311\u001b[0m             \u001b[0mpart_names\u001b[0m \u001b[0;34m=\u001b[0m \u001b[0;34m[\u001b[0m\u001b[0mx\u001b[0m\u001b[0;34m[\u001b[0m\u001b[0;36m1\u001b[0m\u001b[0;34m]\u001b[0m \u001b[0;32mfor\u001b[0m \u001b[0mx\u001b[0m \u001b[0;32min\u001b[0m \u001b[0mgroups\u001b[0m\u001b[0;34m]\u001b[0m\u001b[0;34m\u001b[0m\u001b[0;34m\u001b[0m\u001b[0m\n\u001b[0;32m--> 312\u001b[0;31m             \u001b[0;32mfor\u001b[0m \u001b[0mcube\u001b[0m \u001b[0;32min\u001b[0m \u001b[0miris\u001b[0m\u001b[0;34m.\u001b[0m\u001b[0mio\u001b[0m\u001b[0;34m.\u001b[0m\u001b[0mload_files\u001b[0m\u001b[0;34m(\u001b[0m\u001b[0mpart_names\u001b[0m\u001b[0;34m,\u001b[0m \u001b[0mcallback\u001b[0m\u001b[0;34m,\u001b[0m \u001b[0mconstraints\u001b[0m\u001b[0;34m)\u001b[0m\u001b[0;34m:\u001b[0m\u001b[0;34m\u001b[0m\u001b[0;34m\u001b[0m\u001b[0m\n\u001b[0m\u001b[1;32m    313\u001b[0m                 \u001b[0;32myield\u001b[0m \u001b[0mcube\u001b[0m\u001b[0;34m\u001b[0m\u001b[0;34m\u001b[0m\u001b[0m\n\u001b[1;32m    314\u001b[0m         \u001b[0;32melif\u001b[0m \u001b[0mscheme\u001b[0m \u001b[0;32min\u001b[0m \u001b[0;34m[\u001b[0m\u001b[0;34m'http'\u001b[0m\u001b[0;34m,\u001b[0m \u001b[0;34m'https'\u001b[0m\u001b[0;34m]\u001b[0m\u001b[0;34m:\u001b[0m\u001b[0;34m\u001b[0m\u001b[0;34m\u001b[0m\u001b[0m\n",
      "\u001b[0;32m/nesi/project/niwa02757/ybh10/miniconda3/envs/master/lib/python3.8/site-packages/iris/io/__init__.py\u001b[0m in \u001b[0;36mload_files\u001b[0;34m(filenames, callback, constraints)\u001b[0m\n\u001b[1;32m    191\u001b[0m \u001b[0;34m\u001b[0m\u001b[0m\n\u001b[1;32m    192\u001b[0m     \"\"\"\n\u001b[0;32m--> 193\u001b[0;31m     \u001b[0mall_file_paths\u001b[0m \u001b[0;34m=\u001b[0m \u001b[0mexpand_filespecs\u001b[0m\u001b[0;34m(\u001b[0m\u001b[0mfilenames\u001b[0m\u001b[0;34m)\u001b[0m\u001b[0;34m\u001b[0m\u001b[0;34m\u001b[0m\u001b[0m\n\u001b[0m\u001b[1;32m    194\u001b[0m \u001b[0;34m\u001b[0m\u001b[0m\n\u001b[1;32m    195\u001b[0m     \u001b[0;31m# Create default dict mapping iris format handler to its associated filenames\u001b[0m\u001b[0;34m\u001b[0m\u001b[0;34m\u001b[0m\u001b[0;34m\u001b[0m\u001b[0m\n",
      "\u001b[0;32m/nesi/project/niwa02757/ybh10/miniconda3/envs/master/lib/python3.8/site-packages/iris/io/__init__.py\u001b[0m in \u001b[0;36mexpand_filespecs\u001b[0;34m(file_specs)\u001b[0m\n\u001b[1;32m    174\u001b[0m             \u001b[0;32melse\u001b[0m\u001b[0;34m:\u001b[0m\u001b[0;34m\u001b[0m\u001b[0;34m\u001b[0m\u001b[0m\n\u001b[1;32m    175\u001b[0m                 \u001b[0mmsg\u001b[0m \u001b[0;34m+=\u001b[0m \u001b[0;34m'\\n    * \"{}\" didn\\'t match any files'\u001b[0m\u001b[0;34m.\u001b[0m\u001b[0mformat\u001b[0m\u001b[0;34m(\u001b[0m\u001b[0mpattern\u001b[0m\u001b[0;34m)\u001b[0m\u001b[0;34m\u001b[0m\u001b[0;34m\u001b[0m\u001b[0m\n\u001b[0;32m--> 176\u001b[0;31m         \u001b[0;32mraise\u001b[0m \u001b[0mIOError\u001b[0m\u001b[0;34m(\u001b[0m\u001b[0mmsg\u001b[0m\u001b[0;34m)\u001b[0m\u001b[0;34m\u001b[0m\u001b[0;34m\u001b[0m\u001b[0m\n\u001b[0m\u001b[1;32m    177\u001b[0m \u001b[0;34m\u001b[0m\u001b[0m\n\u001b[1;32m    178\u001b[0m     \u001b[0;32mreturn\u001b[0m \u001b[0;34m[\u001b[0m\u001b[0mfname\u001b[0m \u001b[0;32mfor\u001b[0m \u001b[0mfnames\u001b[0m \u001b[0;32min\u001b[0m \u001b[0mall_expanded\u001b[0m \u001b[0;32mfor\u001b[0m \u001b[0mfname\u001b[0m \u001b[0;32min\u001b[0m \u001b[0mfnames\u001b[0m\u001b[0;34m]\u001b[0m\u001b[0;34m\u001b[0m\u001b[0;34m\u001b[0m\u001b[0m\n",
      "\u001b[0;31mOSError\u001b[0m: One or more of the files specified did not exist:\n    * \"/scale_wlg_nobackup/filesets/nobackup/niwa02757/ybh10/cylc-run/u-cb134/share/data/History_Data/cb134a.pm1988jan\" didn't match any files"
     ]
    }
   ],
   "source": [
    "\n",
    "for use in (Usage_Profile):\n",
    "    #     #for yr in range(0,np.size(year))\n",
    "    os.chdir('/home/ybh10/cylc-run/u-{}/share/data/History_Data'.format(suite))\n",
    "    for i in range(0,np.size(months)):\n",
    "        filename=(('{}a.p{}{}{}').format(suite,use,year,months[i]))\n",
    "        print(filename)\n",
    "        if use == 'd':\n",
    "            for x in (Monthly_Variables):\n",
    "                monthly_iris(x)\n",
    "        if use == 'm':\n",
    "            for x in (Daily_Variables):\n",
    "                daily_iris(x)\n",
    "            # function for daily.\n"
   ]
  },
  {
   "cell_type": "code",
   "execution_count": 7,
   "metadata": {},
   "outputs": [
    {
     "data": {
      "text/plain": [
       "array([ 1,  2,  3,  4,  5,  6,  7,  8,  9, 10, 11])"
      ]
     },
     "execution_count": 7,
     "metadata": {},
     "output_type": "execute_result"
    }
   ],
   "source": [
    "days"
   ]
  },
  {
   "cell_type": "code",
   "execution_count": null,
   "metadata": {},
   "outputs": [],
   "source": []
  }
 ],
 "metadata": {
  "kernelspec": {
   "display_name": "Python 3",
   "language": "python",
   "name": "python3"
  },
  "language_info": {
   "codemirror_mode": {
    "name": "ipython",
    "version": 3
   },
   "file_extension": ".py",
   "mimetype": "text/x-python",
   "name": "python",
   "nbconvert_exporter": "python",
   "pygments_lexer": "ipython3",
   "version": "3.8.3"
  }
 },
 "nbformat": 4,
 "nbformat_minor": 4
}
