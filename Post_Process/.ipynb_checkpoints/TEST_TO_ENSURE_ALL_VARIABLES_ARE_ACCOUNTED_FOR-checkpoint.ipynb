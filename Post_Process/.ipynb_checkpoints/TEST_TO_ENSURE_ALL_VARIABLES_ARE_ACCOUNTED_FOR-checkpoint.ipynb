{
 "cells": [
  {
   "cell_type": "code",
   "execution_count": 106,
   "metadata": {},
   "outputs": [
    {
     "name": "stderr",
     "output_type": "stream",
     "text": [
      "<ipython-input-106-06f8e81de79b>:37: VisibleDeprecationWarning: Creating an ndarray from ragged nested sequences (which is a list-or-tuple of lists-or-tuples-or ndarrays with different lengths or shapes) is deprecated. If you meant to do this, you must specify 'dtype=object' when creating the ndarray\n",
      "  Ditems=np.array(Ditem)\n",
      "<ipython-input-106-06f8e81de79b>:42: VisibleDeprecationWarning: Creating an ndarray from ragged nested sequences (which is a list-or-tuple of lists-or-tuples-or ndarrays with different lengths or shapes) is deprecated. If you meant to do this, you must specify 'dtype=object' when creating the ndarray\n",
      "  Mitems=np.array(Mitem)\n"
     ]
    }
   ],
   "source": [
    "#!/usr/bin/env python3\n",
    "# -*- coding: utf-8 -*-\n",
    "\"\"\"\n",
    "Created on Wed Oct  7 17:27:10 2020\n",
    "\n",
    "@author: ybh10\n",
    "\"\"\"\n",
    "from six.moves import cPickle as pickle\n",
    "import iris\n",
    "import numpy as np\n",
    "import os\n",
    "os.chdir(\"/home/ybh10/Scripts\")\n",
    "from my_functions import *\n",
    "### THINGS NEEDED TO CHANGE WHEN CHANGING SUITE ID:\n",
    "suite='cb134' # the suite ID BUT NOT INCLUDING THE u-\n",
    "Daily_save_file='/home/ybh10/DMS_Emissions/Chemistry_Scheme/Daily' # Directory to save daily variables\n",
    "Monthly_save_file='/home/ybh10/DMS_Emissions/Chemistry_Scheme/Monthly' # Directory to save monthly variables\n",
    "## Change the months depending on if the model starts on Jan - Dec, or if just one month... etc.\n",
    "#months = ['jan','feb','mar','apr','may','jun','jul','aug','sep','oct','nov','dec']\n",
    "months = ['sep','oct'] # for one month. But must get rid of the [i] in the actual code: filename=(('{}a.p{}{}{}').format(suite,use,year,months[i]))\n",
    "year='1988' ## Important - this is what year your suite-id states. e.g.  cb134a.pm1988sep so here 1988.\n",
    "#year=np.arange(2003,2010,1) # for multiple years.\n",
    "## This is to seperate the daily and monthly variables and directories appropriately. The letter here\n",
    "## is what the suite-id states. e.g. cb134a.pm1988sep here is 'm' - for monthly. cb134a.pd1988sep - 'd' for daily\n",
    "daily_file_type='d'\n",
    "monthly_file_type='m'\n",
    "\n",
    "#os.chdir(\"/nesi/nobackup/niwa02757/ybh10/cylc-run/u-\"+suite+\"/share/data/History_Data/\")\n",
    "section = (0,1,2,3,34,38,50) # This gathers the SECTIONS AND ITEMS for the stash requests - in ORDER.\n",
    "## Change as appropriate, but MUST correspond to the 'Daily_Variables' section below. E.g. \n",
    "## DMS_CONCENTRATION_IN_SEAWATER = 132. Ditem = Daily variables. Mitem = Monthly variables. Some are the \n",
    "## same, some are different. It depends on what variable you want to extract for daily/monthly.\n",
    "Ditem = ['208','209','241','298','299'],['205','206','284','285','300','301','302','303'],\\\n",
    "['209','210','236'],['071','072','073','074','075','102','104','108','114'], \\\n",
    "['201','202','203','439','485','486','487','488'],\\\n",
    "['214','216','217','219']\n",
    "Ditems=np.array(Ditem)\n",
    "Mitem = ['096','132'],['208','209','241','298','299'],['205','206','300','301','302','303'],\\\n",
    "['209','210','236'],['072','074','075','102','104','108','114','967','968'], \\\n",
    "['201','202','203','294','295','296','297','298','299','300','439','485','486','487','488'],\\\n",
    "['214','215','216','217','219']\n",
    "Mitems=np.array(Mitem)\n",
    "x=-1\n",
    "M_msi=[]\n",
    "## This section compiles the stash requests in order to create a fully formatted stash (e.g. m01s00i096)\n",
    "for i,s in zip(Mitems,section):\n",
    "    x=x+1\n",
    "    for it in (i):\n",
    "        a=('m01s{:02d}i{}').format(section[x],it)\n",
    "        M_msi.append(a)\n",
    "D_msi=[]\n",
    "x=0\n",
    "for i,s in zip(Ditems,section):\n",
    "    x=x+1\n",
    "    for it in (i):\n",
    "        a=('m01s{:02d}i{}').format(section[x],it)\n",
    "        D_msi.append(a)\n",
    "## This section labels what the stash requests ACTUAL name is. This section is NOT FUNDEMENTAL, but very\n",
    "## useful if you want to know what each variable extracted is named.If changing one of these names, make sure\n",
    "## to change the Stash Request (m01s##i###) too! They correspond to each other!\n",
    "Daily_Variables = ['ALL_SKY_OUTGOING_SW_FLUX_TOA','CLEAR_SKY_UPWARD_SW_FLUX_TOA ',\n",
    "'DROPLET_NUMBER_CONCENTRATION','CDNC_Cloud_Top','WEIGHT_FOR_CDNC',\n",
    "             'ALL_SKY_OUTGOING_LW_FLUX_TOA','CLEAR_SKY_OUTGOING_LW_FLUX_TOA','SULPHATE_OPTICAL_DEPTH','Mineral_Dust_Optical_Depth_in_Radn', \n",
    "'AITKEN_MODE_SOL_OPTICAL_DEPTH','ACCUM_MODE_SOL_OPTICAL_DEPTH','COARSE_MODE_SOL_OPTICAL_DEPTH', 'AITKEN_MODE_INSOL_OPTICAL_DEPTH',\n",
    "             '10M_WIND_U-COMP','10M_WIND_V-COMP','TEMPERATURE_AT_1.5M',\n",
    "             'DMS_MASS_MIXING_RATIO','SO2_MASS_MIXING_RATIO','H2SO4_MMR','MSA_MASS_MIXING_RATIO','DMSO_MMR','NUCLEATION_MODE_SOL_H2SO4_MMR','AITKEN_MODE_SOL_H2SO4_MMR',\n",
    "'ACCUMULATION_MODE_SOL_H2SO4_MMR','COARSE_MODE_SOL_H2SO4_MMR',\n",
    "             'PRIMARY_H2SO4_FLUX_TO_AITKEN', 'PRIMARY_H2SO4_FLUX_TO_ACCUM','PRIMARY_H2SO4_FLUX_TO_COARSE','CCN_NO.CONCENTRATION_25r', \n",
    "'NUCLEATION_MODE_SOL_H2SO4', 'AITKEN_MODE_SOL_H2SO4','ACCUMULATION_MODE_SOL_H2SO4','COARSE_MODE_SOL_H2SO4',\n",
    "             'DMS_SURF_EMISSIONS','SO2_HIGH_LEV_EMISSIONS','SO2_NATURAL_EMISSIONS','OZONE_COLUMN_IN_DOBSON_UNITS']\n",
    "\n",
    "Monthly_Variables = ['OCEAN_SURFACE_CHLOR','DMS_CONCENTRATION_IN_SEAWATER',\n",
    "             'ALL_SKY_OUTGOING_SW_FLUX_TOA','CLEAR_SKY_UPWARD_SW_FLUX_TOA ',\n",
    "'DROPLET_NUMBER_CONCENTRATION','CDNC_Cloud_Top','WEIGHT_FOR_CDNC','ALL_SKY_OUTGOING_LW_FLUX_TOA','CLEAR_SKY_OUTGOING_LW_FLUX_TOA',\n",
    "'AITKEN_MODE_SOL_OPTICAL_DEPTH','ACCUM_MODE_SOL_OPTICAL_DEPTH','COARSE_MODE_SOL_OPTICAL_DEPTH', 'AITKEN_MODE_INSOL_OPTICAL_DEPTH',\n",
    "             '10M_WIND_U-COMP','10M_WIND_V-COMP','TEMPERATURE_AT_1.5M',\n",
    "             'SO2_MASS_MIXING_RATIO','MSA_MASS_MIXING_RATIO','DMSO_MMR','NUCLEATION_MODE_SOL_H2SO4_MMR','AITKEN_MODE_SOL_H2SO4_MMR',\n",
    "'ACCUMULATION_MODE_SOL_H2SO4_MMR','COARSE_MODE_SOL_H2SO4_MMR','CDNC_third','CDNC ',\n",
    "             'PRIMARY_H2SO4_FLUX_TO_AITKEN', 'PRIMARY_H2SO4_FLUX_TO_ACCUM','PRIMARY_H2SO4_FLUX_TO_COARSE',\n",
    "'COND_H2SO4_TO_NUC_SOL','COND_H2SO4_TO_AITKEN_SOL','COND_H2SO4_TO_ACCUM_SOL','COND_H2SO4_TO_COARSE_SOL',\n",
    "'COND_H2SO4_TO_AITKEN_INSOL','COND_H2SO4_TO_ACCUM_INSOL','COND_H2SO4_TO_COARSE_INSOL','CCN_NO.CONCENTRATION_25r', \n",
    "'NUCLEATION_MODE_SOL_H2SO4','AITKEN_MODE_SOL_H2SO4','ACCUMULATION_MODE_SOL_H2SO4', 'COARSE_MODE_SOL_H2SO4',\n",
    "             'DMS_SURF_EMISSIONS','SO2_SURF_EMISSIONS','SO2_HIGH_LEV_EMISSIONS','SO2_NATURAL_EMISSIONS',\n",
    "'OZONE_COLUMN_IN_DOBSON_UNITS']\n",
    "## Compiling it into a dictionary. so: OCEAN_SURFACE_CHLOR = m01s00i096. So when extracting from the\n",
    "## raw model data, it will take that variable (m01s00i096) and name it to OCEAN_SURFACE_CHLOR.\n",
    "Monthly = {}\n",
    "for v,m in zip(Monthly_Variables,M_msi):\n",
    "    Monthly[v]=m\n",
    "Daily = {}\n",
    "for v,m in zip(Daily_Variables,D_msi):\n",
    "    Daily[v]=m\n",
    "\n",
    "\n",
    "Usage_Profile = [monthly_file_type,daily_file_type]\n",
    "# Magic.\n",
    "def monthly_iris(x): # Creates NC files from iris.\n",
    "    constraint=iris.AttributeConstraint(STASH=Monthly[x])\n",
    "    cube = iris.load(filename,constraint)\n",
    "    iris.save(cube, '{}/{}_{}_{}_{}.nc'.format(Monthly_save_file,monthly_file_type,x,months[i],year))\n",
    "    print(('{}a.p{}{}{} & {}').format(suite,use,year,months[i],Monthly[x]))    \n",
    "    print(cube)\n",
    "    print('{}/{}_{}_{}_{}.nc'.format(Monthly_save_file,monthly_file_type,x,months[i],year))\n",
    "    return monthly_iris     \n",
    "\n",
    "def daily_iris(x): # Creates NC files from iris.\n",
    "    constraint=iris.AttributeConstraint(STASH=Daily[x])\n",
    "    cube = iris.load(filename,constraint)\n",
    "    iris.save(cube,'{}/{}_{}_{}_{}.nc'.format(Daily_save_file,daily_file_type,x,months[i],year))\n",
    "    print(('{}a.p{}{}{} & {}').format(suite,use,year,months[i],Daily[x]))    \n",
    "    print(cube)\n",
    "    print('{}/{}_{}_{}_{}.nc'.format(Daily_save_file,daily_file_type,x,months[i],year))\n",
    "\n",
    "    return daily_iris    \n",
    "\n",
    "\n",
    "#os.chdir(\"/home/ybh10/Numpy_Array/\")\n",
    "#save_dict(Daily,'Daily_Stash_Output.npy')\n",
    "#save_dict(Monthly,'Monthly_Stash_Output.npy')\n",
    "\n",
    "#os.chdir(\"/nesi/nobackup/niwa02757/ybh10/cylc-run/u-\"+suite+\"/share/data/History_Data/\")"
   ]
  },
  {
   "cell_type": "code",
   "execution_count": null,
   "metadata": {},
   "outputs": [
    {
     "name": "stdout",
     "output_type": "stream",
     "text": [
      "cb134a.pm1988sep\n",
      "cb134a.pm1988oct\n",
      "cb134a.pd1988sep\n",
      "cb134a.pd1988sep & m01s01i208\n",
      "0: toa_outgoing_shortwave_flux / (W m-2) (time: 30; latitude: 144; longitude: 192)\n",
      "/home/ybh10/DMS_Emissions/Chemistry_Scheme/Daily/d_ALL_SKY_OUTGOING_SW_FLUX_TOA_sep_1988.nc\n"
     ]
    },
    {
     "name": "stderr",
     "output_type": "stream",
     "text": [
      "/nesi/project/niwa02757/ybh10/miniconda3/envs/master/lib/python3.8/site-packages/iris/fileformats/_ff.py:710: UserWarning: The stash code m01s26i001 is on a grid 23 which has not been explicitly handled by the fieldsfile loader. Assuming the data is on a P grid.\n",
      "  warnings.warn('The stash code {} is on a grid {} '\n"
     ]
    },
    {
     "name": "stdout",
     "output_type": "stream",
     "text": [
      "cb134a.pd1988sep & m01s01i209\n",
      "0: toa_outgoing_shortwave_flux_assuming_clear_sky / (W m-2) (time: 30; latitude: 144; longitude: 192)\n",
      "/home/ybh10/DMS_Emissions/Chemistry_Scheme/Daily/d_CLEAR_SKY_UPWARD_SW_FLUX_TOA _sep_1988.nc\n"
     ]
    },
    {
     "name": "stderr",
     "output_type": "stream",
     "text": [
      "/nesi/project/niwa02757/ybh10/miniconda3/envs/master/lib/python3.8/site-packages/iris/fileformats/_ff.py:710: UserWarning: The stash code m01s26i001 is on a grid 23 which has not been explicitly handled by the fieldsfile loader. Assuming the data is on a P grid.\n",
      "  warnings.warn('The stash code {} is on a grid {} '\n",
      "/nesi/project/niwa02757/ybh10/miniconda3/envs/master/lib/python3.8/site-packages/iris/fileformats/rules.py:334: UserWarning: Unable to create instance of HybridHeightFactory. The source data contains no field(s) for 'orography'.\n",
      "  warnings.warn(msg.format(factory=factory_name))\n"
     ]
    },
    {
     "name": "stdout",
     "output_type": "stream",
     "text": [
      "cb134a.pd1988sep & m01s01i241\n",
      "0: product_of_number_concentration_of_stratiform_cloud_liquid_water_particles_and_stratiform_cloud_liquid_water_area_fraction_and_sunlit_binary_mask / (cm-3) (time: 30; model_level_number: 85; latitude: 144; longitude: 192)\n",
      "/home/ybh10/DMS_Emissions/Chemistry_Scheme/Daily/d_DROPLET_NUMBER_CONCENTRATION_sep_1988.nc\n"
     ]
    },
    {
     "name": "stderr",
     "output_type": "stream",
     "text": [
      "/nesi/project/niwa02757/ybh10/miniconda3/envs/master/lib/python3.8/site-packages/iris/fileformats/_ff.py:710: UserWarning: The stash code m01s26i001 is on a grid 23 which has not been explicitly handled by the fieldsfile loader. Assuming the data is on a P grid.\n",
      "  warnings.warn('The stash code {} is on a grid {} '\n"
     ]
    },
    {
     "name": "stdout",
     "output_type": "stream",
     "text": [
      "cb134a.pd1988sep & m01s01i298\n",
      "0: m01s01i298 / (unknown)              (time: 30; latitude: 144; longitude: 192)\n",
      "/home/ybh10/DMS_Emissions/Chemistry_Scheme/Daily/d_CDNC_Cloud_Top_sep_1988.nc\n"
     ]
    },
    {
     "name": "stderr",
     "output_type": "stream",
     "text": [
      "/nesi/project/niwa02757/ybh10/miniconda3/envs/master/lib/python3.8/site-packages/iris/fileformats/_ff.py:710: UserWarning: The stash code m01s26i001 is on a grid 23 which has not been explicitly handled by the fieldsfile loader. Assuming the data is on a P grid.\n",
      "  warnings.warn('The stash code {} is on a grid {} '\n"
     ]
    },
    {
     "name": "stdout",
     "output_type": "stream",
     "text": [
      "cb134a.pd1988sep & m01s01i299\n",
      "0: m01s01i299 / (unknown)              (time: 30; latitude: 144; longitude: 192)\n",
      "/home/ybh10/DMS_Emissions/Chemistry_Scheme/Daily/d_WEIGHT_FOR_CDNC_sep_1988.nc\n"
     ]
    },
    {
     "name": "stderr",
     "output_type": "stream",
     "text": [
      "/nesi/project/niwa02757/ybh10/miniconda3/envs/master/lib/python3.8/site-packages/iris/fileformats/_ff.py:710: UserWarning: The stash code m01s26i001 is on a grid 23 which has not been explicitly handled by the fieldsfile loader. Assuming the data is on a P grid.\n",
      "  warnings.warn('The stash code {} is on a grid {} '\n"
     ]
    },
    {
     "name": "stdout",
     "output_type": "stream",
     "text": [
      "cb134a.pd1988sep & m01s02i205\n",
      "0: toa_outgoing_longwave_flux / (W m-2) (time: 30; latitude: 144; longitude: 192)\n",
      "/home/ybh10/DMS_Emissions/Chemistry_Scheme/Daily/d_ALL_SKY_OUTGOING_LW_FLUX_TOA_sep_1988.nc\n"
     ]
    },
    {
     "name": "stderr",
     "output_type": "stream",
     "text": [
      "/nesi/project/niwa02757/ybh10/miniconda3/envs/master/lib/python3.8/site-packages/iris/fileformats/_ff.py:710: UserWarning: The stash code m01s26i001 is on a grid 23 which has not been explicitly handled by the fieldsfile loader. Assuming the data is on a P grid.\n",
      "  warnings.warn('The stash code {} is on a grid {} '\n"
     ]
    },
    {
     "name": "stdout",
     "output_type": "stream",
     "text": [
      "cb134a.pd1988sep & m01s02i206\n",
      "0: toa_outgoing_longwave_flux_assuming_clear_sky / (W m-2) (time: 30; latitude: 144; longitude: 192)\n",
      "/home/ybh10/DMS_Emissions/Chemistry_Scheme/Daily/d_CLEAR_SKY_OUTGOING_LW_FLUX_TOA_sep_1988.nc\n"
     ]
    },
    {
     "name": "stderr",
     "output_type": "stream",
     "text": [
      "/nesi/project/niwa02757/ybh10/miniconda3/envs/master/lib/python3.8/site-packages/iris/fileformats/_ff.py:710: UserWarning: The stash code m01s26i001 is on a grid 23 which has not been explicitly handled by the fieldsfile loader. Assuming the data is on a P grid.\n",
      "  warnings.warn('The stash code {} is on a grid {} '\n"
     ]
    }
   ],
   "source": [
    "\n",
    "for use in (Usage_Profile):\n",
    "    #     #for yr in range(0,np.size(year))\n",
    "    os.chdir('/home/ybh10/cylc-run/u-{}/share/data/History_Data'.format(suite))\n",
    "    for i in range(0,np.size(months)):\n",
    "        filename=(('{}a.p{}{}{}').format(suite,use,year,months[i]))\n",
    "        print(filename)\n",
    "        if use == 'd':\n",
    "            for x in (Daily_Variables):\n",
    "                daily_iris(x)\n",
    "            # function for daily.\n"
   ]
  },
  {
   "cell_type": "code",
   "execution_count": 7,
   "metadata": {},
   "outputs": [
    {
     "data": {
      "text/plain": [
       "array([ 1,  2,  3,  4,  5,  6,  7,  8,  9, 10, 11])"
      ]
     },
     "execution_count": 7,
     "metadata": {},
     "output_type": "execute_result"
    }
   ],
   "source": [
    "days"
   ]
  },
  {
   "cell_type": "code",
   "execution_count": null,
   "metadata": {},
   "outputs": [],
   "source": []
  }
 ],
 "metadata": {
  "kernelspec": {
   "display_name": "Python 3",
   "language": "python",
   "name": "python3"
  },
  "language_info": {
   "codemirror_mode": {
    "name": "ipython",
    "version": 3
   },
   "file_extension": ".py",
   "mimetype": "text/x-python",
   "name": "python",
   "nbconvert_exporter": "python",
   "pygments_lexer": "ipython3",
   "version": "3.8.3"
  }
 },
 "nbformat": 4,
 "nbformat_minor": 4
}
