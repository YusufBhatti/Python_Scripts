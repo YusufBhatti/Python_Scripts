{
 "cells": [
  {
   "cell_type": "code",
   "execution_count": null,
   "metadata": {},
   "outputs": [],
   "source": [
    "\"\"\"\n",
    "Created on Mon Feb 17 15:23:46 2020\n",
    "\n",
    "@author: ybh10\n",
    "\"\"\"\n",
    "\n",
    "import iris\n",
    "import os\n",
    "import numpy as np\n",
    "\n",
    "months = ['jan']\n",
    "year = '1988'\n",
    "\n",
    "#for yr in range(0,np.size(year)):\n",
    "for i in range(0,np.size(months)):\n",
    "        os.chdir('/home/ybh10/cylc-run/u-bo912/share/data/History_Data/')\n",
    "        filename = 'bo912a.pd1988'+months[i]+'.pp'\n",
    "        vars = iris.load(filename)\n",
    "        #print vars\n",
    "        \n",
    "        os.chdir('/home/ybh10/Objective_2/MEDUSA/coupled/Processed')        \n",
    "        cloud_area_fraction  = vars[24]; iris.save(cloud_area_fraction ,\"daily_cloud_area_fraction_coupled_{}.nc\".format(months[i]))\n",
    "        mole_concentration_of_dimethyl_sulfide_in_sea_water = vars[28]; iris.save(mole_concentration_of_dimethyl_sulfide_in_sea_water ,\"SW_DMS/daily_mole_concentration_of_dimethyl_sulfide_in_sea_water_coupled_{}.nc\".format(months[i]))   \n",
    "        dimethyl_sulfide_emission = vars[13]; iris.save(mass_fraction_of_dimethyl_sulfide_in_air,\"Atmos_DMS/daily_dimethyl_sulfide_emission_coupled_{}.nc\".format(months[i]))         \n",
    "        Ocean_Surface_Chlor = vars[12]; iris.save(mass_fraction_of_dimethyl_sulfide_in_air,\"daily_Ocean_Surface_Chlor_coupled_{}.nc\".format(months[i]))         \n",
    "\n",
    "#         os.chdir('/home/ybh10/cylc-run/u-bw945/share/data/History_Data/')       \n",
    "#         filename = 'bw945a.pm2003'+months[i]+'.pp'\n",
    "#         vars = iris.load(filename)\n",
    "#         os.chdir('/nesi/nobackup/niwa02757/ybh10/DMS/MEDUSA/2003')       \n",
    "#         cloud_area_fraction  = vars[332]; iris.save(cloud_area_fraction ,\"bw_cloud_area_fraction_2003_{}.nc\".format(months[i]))\n",
    "#         mass_fraction_of_dimethyl_sulfide_in_air = vars[358]; iris.save(mass_fraction_of_dimethyl_sulfide_in_air,\"bw_mass_fraction_of_dimethyl_sulfide_in_air_2003_{}.nc\".format(months[i]))         \n",
    "#         mole_concentration_of_dimethyl_sulfide_in_sea_water = vars[387]; iris.save(mole_concentration_of_dimethyl_sulfide_in_sea_water ,\"bw_mole_concentration_of_dimethyl_sulfide_in_sea_water_2003_{}.nc\".format(months[i]))   \n",
    "#         print(toa_outgoing_LW_flux)\n"
   ]
  },
  {
   "cell_type": "code",
   "execution_count": null,
   "metadata": {},
   "outputs": [],
   "source": []
  },
  {
   "cell_type": "code",
   "execution_count": null,
   "metadata": {},
   "outputs": [],
   "source": []
  }
 ],
 "metadata": {
  "kernelspec": {
   "display_name": "Python 3",
   "language": "python",
   "name": "python3"
  },
  "language_info": {
   "codemirror_mode": {
    "name": "ipython",
    "version": 3
   },
   "file_extension": ".py",
   "mimetype": "text/x-python",
   "name": "python",
   "nbconvert_exporter": "python",
   "pygments_lexer": "ipython3",
   "version": "3.8.3"
  }
 },
 "nbformat": 4,
 "nbformat_minor": 4
}
